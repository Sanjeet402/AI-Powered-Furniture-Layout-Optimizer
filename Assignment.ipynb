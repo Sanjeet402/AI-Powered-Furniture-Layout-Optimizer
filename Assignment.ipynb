{
  "nbformat": 4,
  "nbformat_minor": 0,
  "metadata": {
    "colab": {
      "provenance": []
    },
    "kernelspec": {
      "name": "python3",
      "display_name": "Python 3"
    },
    "language_info": {
      "name": "python"
    }
  },
  "cells": [
    {
      "cell_type": "code",
      "execution_count": 3,
      "metadata": {
        "id": "j9d4I_WmU8qa"
      },
      "outputs": [],
      "source": [
        "import numpy as np\n",
        "import tensorflow as tf\n",
        "import matplotlib.pyplot as plt\n",
        "import streamlit as st\n",
        "from scipy.optimize import minimize\n",
        "from sklearn.model_selection import train_test_split"
      ]
    },
    {
      "cell_type": "code",
      "source": [
        "# Generate synthetic dataset\n",
        "def generate_data(num_samples=1000):\n",
        "    data = []\n",
        "    labels = []\n",
        "    for _ in range(num_samples):\n",
        "        room_size = np.random.randint(5, 10, size=2)  # Room dimensions (5x5 to 10x10)\n",
        "        furniture_count = np.random.randint(1, 5)  # Number of furniture pieces\n",
        "        furniture = []\n",
        "        for _ in range(furniture_count):\n",
        "            w, h = np.random.randint(1, 4, size=2)  # Furniture dimensions\n",
        "            x, y = np.random.randint(0, room_size[0] - w), np.random.randint(0, room_size[1] - h)\n",
        "            furniture.append([x, y, w, h])\n",
        "        data.append([room_size, furniture])\n",
        "        labels.append(furniture)  # Optimized placement (mocked for now)\n",
        "    return np.array(data), np.array(labels)"
      ],
      "metadata": {
        "id": "CUO6hAD3WIXG"
      },
      "execution_count": 4,
      "outputs": []
    },
    {
      "cell_type": "code",
      "source": [
        "# Preprocess data\n",
        "def preprocess_data(data, labels):\n",
        "    X = []\n",
        "    y = []\n",
        "    for room_size, furniture in data:\n",
        "        room_size = room_size / 10.0  # Normalize room dimensions\n",
        "        furniture = np.array(furniture).flatten() / 10.0  # Normalize furniture positions and dimensions\n",
        "        X.append(np.concatenate([room_size, furniture]))\n",
        "        y.append(furniture)\n",
        "    return np.array(X), np.array(y)"
      ],
      "metadata": {
        "id": "tA5lrlgFXIxr"
      },
      "execution_count": 5,
      "outputs": []
    },
    {
      "cell_type": "code",
      "source": [
        "# Create a simple neural network model\n",
        "def build_model():\n",
        "    model = tf.keras.Sequential([\n",
        "        tf.keras.layers.Flatten(input_shape=(12,)),\n",
        "        tf.keras.layers.Dense(64, activation='relu'),\n",
        "        tf.keras.layers.Dense(32, activation='relu'),\n",
        "        tf.keras.layers.Dense(8, activation='linear')  # Output (x, y, w, h for 2 objects)\n",
        "    ])\n",
        "    model.compile(optimizer='adam', loss='mse')\n",
        "    return model"
      ],
      "metadata": {
        "id": "U_8Edvv8XOQr"
      },
      "execution_count": 6,
      "outputs": []
    },
    {
      "cell_type": "code",
      "source": [
        "# Optimization function for furniture placement\n",
        "def optimize_layout(room_size, furniture):\n",
        "    def objective(positions):\n",
        "        # Minimize overlapping and maximize spacing\n",
        "        penalty = 0\n",
        "        for i in range(len(furniture)):\n",
        "            for j in range(i + 1, len(furniture)):\n",
        "                x1, y1, w1, h1 = positions[i*2], positions[i*2+1], furniture[i][2], furniture[i][3]\n",
        "                x2, y2, w2, h2 = positions[j*2], positions[j*2+1], furniture[j][2], furniture[j][3]\n",
        "                if (x1 < x2 + w2 and x1 + w1 > x2 and y1 < y2 + h2 and y1 + h1 > y2):\n",
        "                    penalty += 100  # High penalty for overlapping\n",
        "        return penalty\n",
        "\n",
        "    initial_positions = [f[0] for f in furniture] + [f[1] for f in furniture]\n",
        "    bounds = [(0, room_size[0] - f[2]) for f in furniture] + [(0, room_size[1] - f[3]) for f in furniture]\n",
        "\n",
        "    result = minimize(objective, initial_positions, bounds=bounds, method='SLSQP')\n",
        "\n",
        "    optimized_positions = result.x.reshape(-1, 2)\n",
        "    for i in range(len(furniture)):\n",
        "        furniture[i][0], furniture[i][1] = optimized_positions[i]\n",
        "    return furniture"
      ],
      "metadata": {
        "id": "4Zsvue07XSq8"
      },
      "execution_count": 7,
      "outputs": []
    },
    {
      "cell_type": "code",
      "source": [
        "# Plot layout\n",
        "def plot_layout(room_size, furniture):\n",
        "    fig, ax = plt.subplots()\n",
        "    ax.set_xlim(0, room_size[0])\n",
        "    ax.set_ylim(0, room_size[1])\n",
        "    for f in furniture:\n",
        "        rect = plt.Rectangle((f[0], f[1]), f[2], f[3], edgecolor='blue', fill=True, alpha=0.5)\n",
        "        ax.add_patch(rect)\n",
        "    st.pyplot(fig)"
      ],
      "metadata": {
        "id": "FaY-iVQCXZuh"
      },
      "execution_count": 8,
      "outputs": []
    },
    {
      "cell_type": "code",
      "source": [
        "# Streamlit UI\n",
        "def main():\n",
        "    st.title(\"AI-Powered Furniture Layout Optimizer\")\n",
        "    room_width = st.slider(\"Room Width\", 5, 10, 7)\n",
        "    room_height = st.slider(\"Room Height\", 5, 10, 7)\n",
        "    num_furniture = st.slider(\"Number of Furniture Items\", 1, 5, 3)\n",
        "\n",
        "    furniture = []\n",
        "    for i in range(num_furniture):\n",
        "        x, y = np.random.randint(0, room_width - 2), np.random.randint(0, room_height - 2)\n",
        "        w, h = np.random.randint(1, 3), np.random.randint(1, 3)\n",
        "        furniture.append([x, y, w, h])\n",
        "\n",
        "    optimized_furniture = optimize_layout([room_width, room_height], furniture)\n",
        "\n",
        "    st.write(\"Optimized Layout:\")\n",
        "    plot_layout([room_width, room_height], optimized_furniture)"
      ],
      "metadata": {
        "id": "Zk63TzYIXeOX"
      },
      "execution_count": 9,
      "outputs": []
    },
    {
      "cell_type": "code",
      "source": [
        "if __name__ == \"__main__\":\n",
        "    main()"
      ],
      "metadata": {
        "colab": {
          "base_uri": "https://localhost:8080/",
          "height": 958
        },
        "id": "jVQLfc8pXlAo",
        "outputId": "5c75519d-c704-4c12-be39-cdaae2d14477"
      },
      "execution_count": 10,
      "outputs": [
        {
          "output_type": "stream",
          "name": "stderr",
          "text": [
            "2025-03-12 02:50:40.102 WARNING streamlit.runtime.scriptrunner_utils.script_run_context: Thread 'MainThread': missing ScriptRunContext! This warning can be ignored when running in bare mode.\n",
            "2025-03-12 02:50:40.269 \n",
            "  \u001b[33m\u001b[1mWarning:\u001b[0m to view this Streamlit app on a browser, run it with the following\n",
            "  command:\n",
            "\n",
            "    streamlit run /usr/local/lib/python3.11/dist-packages/colab_kernel_launcher.py [ARGUMENTS]\n",
            "2025-03-12 02:50:40.270 Thread 'MainThread': missing ScriptRunContext! This warning can be ignored when running in bare mode.\n",
            "2025-03-12 02:50:40.272 Thread 'MainThread': missing ScriptRunContext! This warning can be ignored when running in bare mode.\n",
            "2025-03-12 02:50:40.274 Thread 'MainThread': missing ScriptRunContext! This warning can be ignored when running in bare mode.\n",
            "2025-03-12 02:50:40.276 Thread 'MainThread': missing ScriptRunContext! This warning can be ignored when running in bare mode.\n",
            "2025-03-12 02:50:40.278 Thread 'MainThread': missing ScriptRunContext! This warning can be ignored when running in bare mode.\n",
            "2025-03-12 02:50:40.279 Thread 'MainThread': missing ScriptRunContext! This warning can be ignored when running in bare mode.\n",
            "2025-03-12 02:50:40.280 Thread 'MainThread': missing ScriptRunContext! This warning can be ignored when running in bare mode.\n",
            "2025-03-12 02:50:40.282 Thread 'MainThread': missing ScriptRunContext! This warning can be ignored when running in bare mode.\n",
            "2025-03-12 02:50:40.283 Thread 'MainThread': missing ScriptRunContext! This warning can be ignored when running in bare mode.\n",
            "2025-03-12 02:50:40.285 Thread 'MainThread': missing ScriptRunContext! This warning can be ignored when running in bare mode.\n",
            "2025-03-12 02:50:40.285 Thread 'MainThread': missing ScriptRunContext! This warning can be ignored when running in bare mode.\n",
            "2025-03-12 02:50:40.286 Thread 'MainThread': missing ScriptRunContext! This warning can be ignored when running in bare mode.\n",
            "2025-03-12 02:50:40.287 Thread 'MainThread': missing ScriptRunContext! This warning can be ignored when running in bare mode.\n",
            "2025-03-12 02:50:40.288 Thread 'MainThread': missing ScriptRunContext! This warning can be ignored when running in bare mode.\n",
            "2025-03-12 02:50:40.289 Thread 'MainThread': missing ScriptRunContext! This warning can be ignored when running in bare mode.\n",
            "2025-03-12 02:50:40.290 Thread 'MainThread': missing ScriptRunContext! This warning can be ignored when running in bare mode.\n",
            "2025-03-12 02:50:40.299 Thread 'MainThread': missing ScriptRunContext! This warning can be ignored when running in bare mode.\n",
            "2025-03-12 02:50:40.299 Thread 'MainThread': missing ScriptRunContext! This warning can be ignored when running in bare mode.\n",
            "2025-03-12 02:50:40.300 Thread 'MainThread': missing ScriptRunContext! This warning can be ignored when running in bare mode.\n",
            "2025-03-12 02:50:40.301 Thread 'MainThread': missing ScriptRunContext! This warning can be ignored when running in bare mode.\n",
            "2025-03-12 02:50:40.325 Thread 'MainThread': missing ScriptRunContext! This warning can be ignored when running in bare mode.\n",
            "2025-03-12 02:50:40.559 Thread 'MainThread': missing ScriptRunContext! This warning can be ignored when running in bare mode.\n",
            "2025-03-12 02:50:40.560 Thread 'MainThread': missing ScriptRunContext! This warning can be ignored when running in bare mode.\n"
          ]
        },
        {
          "output_type": "display_data",
          "data": {
            "text/plain": [
              "<Figure size 640x480 with 1 Axes>"
            ],
            "image/png": "[encoded data removed]"
          },
          "metadata": {}
        }
      ]
    }
  ]
}